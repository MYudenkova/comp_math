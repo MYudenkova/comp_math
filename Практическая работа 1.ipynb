{
 "cells": [
  {
   "cell_type": "code",
   "execution_count": 1,
   "metadata": {},
   "outputs": [
    {
     "data": {
      "application/javascript": [
       "IPython.notebook.set_autosave_interval(20000)"
      ]
     },
     "metadata": {},
     "output_type": "display_data"
    },
    {
     "name": "stdout",
     "output_type": "stream",
     "text": [
      "Autosaving every 20 seconds\n"
     ]
    }
   ],
   "source": [
    "%autosave 20\n",
    "%matplotlib inline\n",
    "from matplotlib import rcParams\n",
    "from matplotlib.lines import lineStyles\n",
    "import matplotlib.pyplot as plt\n",
    "import numpy as np\n",
    "import pylab as plb\n",
    "from scipy.optimize import curve_fit\n",
    "from scipy.interpolate import spline\n",
    "\n",
    "# Recommended for any plot for a science publication.\n",
    "# Some paper submision systems (e.g. MNRAS) requires next lines to be done for your pictures.\n",
    "# Read more about font types: https://en.wikipedia.org/wiki/PostScript_fonts\n",
    "rcParams['ps.fonttype'] = 42\n",
    "rcParams['pdf.fonttype'] = 42\n",
    "\n",
    "rcParams['font.size'] = 14\n",
    "\n",
    "# Render text with TeX\n",
    "rcParams['text.usetex'] = True  # You should have working latex in your $PATH\n",
    "\n",
    "# Font specification example:\n",
    "# rcParams['font.family'] = 'serif'\n",
    "# rcParams['font.serif'] = 'Times New Roman'\n",
    "\n",
    "# For Russian\n",
    "rcParams['text.latex.unicode'] = True\n",
    "rcParams['text.latex.preamble'] = r'\\usepackage[T2A]{fontenc}'  # All other useful packages"
   ]
  },
  {
   "cell_type": "markdown",
   "metadata": {},
   "source": [
    "## Практическая работа №1\n",
    "\n",
    "<br> Дифференциальная задача (1):\n",
    "$$\\mathcal{L}u = f$$\n",
    "$$u(x_0) = u_0$$\n",
    "<br> Разностная задача (2):\n",
    "$$Ly = \\Phi$$\n",
    "$$y_0=u_0$$\n",
    "\n",
    "**1. В чем состоит сложность сопоставления решения дифференциальной и разностной задач?**\n",
    "<br> Стремный пример про муху и слона.\n",
    "<br>**2. Дайте определение сходимости**\n",
    "    <br> Решение разностной задачи (2) сходится к решению дифференциальной задачи (1), если\n",
    "    <br> $$||[u]_h-y||_{Y_n}  \\rightarrow 0 \\text{ при } h \\rightarrow 0$$\n",
    "    <br> Если $$||[u]_h-y||_{Y_n} \\leq ch^p \\text{,}$$ то говорят, что имеет место сходимость порядка p. \n",
    "<br>**3. Что называют невязкой уравнения?**\n",
    "    <br> Невязкой разностного уравнения называется результат подстановки в него сеточной проекции точного решения дифференциальной задачи\n",
    "    $$r_n=L[u]_h-\\Phi$$\n",
    "**4. Дайте определение аппроксимации**\n",
    "    <br> Говорят, что разностная схема (2) аппроксимирует дифференциальную задачу (1), если \n",
    "    $$||r_n||\\rightarrow 0 \\text{ при } h \\rightarrow 0$$\n",
    "    Если $$||r_n||\\leq c_1h^k \\text{,}$$ то имеет место аппроксимация порядка k. \n",
    "<br>**5. Дайте определение устойчивости**\n",
    "    <br> разностная схема (2) устойчива, если существуют $h_0$ и $\\delta > 0$ такие, что\n",
    "    $$\\forall h>h_0 \\, \\forall \\epsilon_1 \\text{,} \\epsilon_2 < \\delta$$\n",
    "    $$ Ly_1 = \\Phi + \\epsilon_1$$\n",
    "    $$ Ly_2 = \\Phi + \\epsilon_2$$\n",
    "    $$\\rightarrow ||y_1 - y_2|| \\leq c_2(||\\epsilon_1||+||\\epsilon_1||)$$ \n",
    "<br> **6. Сформулируйте теорему Лакса-Рябенького-Филиппова**\n",
    "    <br> Пусть разностная схема (2) аппроксимирует дифференциальную задачу (1) и устойчива. Тогда решение разностной задачи сходится к решению дифференциальной задачи.\n",
    "<br> **7. Спектральный признак устойчивости**\n",
    "    <br> Ограничнность степеней собственных значений оператора перехода $|\\lambda^m_i|<M$\n",
    "    <br> Cтрогая устойчивость:\n",
    "    $$|\\lambda_i| \\leq 1$$\n",
    "    <br> Нестрогая устойчивость:\n",
    "    $$|\\lambda_i| < 1+ch$$\n",
    "<br> **8. Для каких классов задач используют явные/неявные методы Рунге-Кутты**\n",
    "<br> ЯМРК - нежесткие системы ОДУ, НМРК - жесткие системы ОДУ.\n",
    "<br> **9. Какой смысл несут необязательные условия Кутты?**\n",
    "<br> Для получения приближения первого порядка к решению на каждой стадии.\n",
    "<br> **10. В чем смысл барьеров Бутчера?**\n",
    "<br> Количество стадий ЯМРК растет быстрее, чем достижимый порядок метода.\n",
    "<br> Барьеры Бутчера:\n",
    "<br> Не существует ЯМРК: $s = p$, если $p \\geq 5$ \n",
    "<br> Не существует ЯМРК: $s = p+1$, если $p \\geq 7$ \n",
    "<br> Не существует ЯМРК: $s = p+$, если $p \\geq 8$ \n",
    "<br> **11. Определение А- и L-устойчивости**\n",
    "<br> Если область абсолютной устойчивости включает в себя левую полуплоскость комплексной плоскости, тто метод называется А-устойчивым.\n",
    "<br> Если разностная схема А-устойчива и $|R(z)|\\mapsto 0$ при $Rez \\mapsto - \\infty$, то метод называется L-устойчивым.\n",
    "<br> **12. При каких условиях метод прогонки устойчив?**\n",
    "<br> Пусть выполнены условия диагонального преобладания \n",
    "$$|b_n| \\geq |a_n|+|c_n|$$\n",
    "и хотя бы для одной строки имеет место условие стогого диаонального преобладания\n",
    "$$|b_n| > |a_n|+|c_n|$$\n",
    "и $0<|P_1|<1$, тогда алгоритм прогонки устойчив."
   ]
  },
  {
   "cell_type": "markdown",
   "metadata": {},
   "source": [
    "### Задача 1\n",
    "#### X.8.11\n",
    "Система\n",
    "$$\\begin{cases}\n",
    "    y' = z\\\\\n",
    "    z' = -100y-101z\n",
    "  \\end {cases}$$\n",
    "является системой первого порядка, эквивалентной уравнению второго\n",
    "порядка $y″ + 101y + 100y = 0$. Примените метод Эйлера к этой системе с\n",
    "начальными условиями $y(0) = 2, z(0) = –2$ и определите экспериментально, насколько малым должен быть шаг h, чтобы счет был устойчивым.\n",
    "Попытайтесь подтвердить выводы о необходимой величине шага h\n",
    "аналитически. "
   ]
  },
  {
   "cell_type": "markdown",
   "metadata": {},
   "source": [
    "#### Решение\n",
    "$$ \\lambda_1 = -100\\\\ \\lambda_2 = -1$$  \n",
    "<br> $$h = 0.02 $$"
   ]
  },
  {
   "cell_type": "code",
   "execution_count": 108,
   "metadata": {},
   "outputs": [
    {
     "name": "stderr",
     "output_type": "stream",
     "text": [
      "No handles with labels found to put in legend.\n"
     ]
    },
    {
     "name": "stdout",
     "output_type": "stream",
     "text": [
      "0.0018432388905499364\n"
     ]
    },
    {
     "data": {
      "text/plain": [
       "<matplotlib.legend.Legend at 0x1bd955b26d8>"
      ]
     },
     "execution_count": 108,
     "metadata": {},
     "output_type": "execute_result"
    },
    {
     "data": {
      "image/png": "[encoded data removed]",
      "text/plain": [
       "<Figure size 432x288 with 1 Axes>"
      ]
     },
     "metadata": {
      "needs_background": "light"
     },
     "output_type": "display_data"
    }
   ],
   "source": [
    "h = 0.005\n",
    "l = 10\n",
    "e = 0.01\n",
    "#Решение\n",
    "def sol(t):\n",
    "    return 2*np.exp(-t)\n",
    "\n",
    "t = np.arange (0, l, 0.02)\n",
    "\n",
    "N = int(l/h)\n",
    "\n",
    "th = 0\n",
    "y = 2\n",
    "z = -2\n",
    "\n",
    "#print(N)\n",
    "y = np.zeros(N+1)\n",
    "y[0] = 2\n",
    "z = np.zeros(N+1)\n",
    "z[0] = -2\n",
    "th = np.zeros(N+1)\n",
    "for i in range(N):\n",
    "    y[i+1] = y[i] + h * z[i] \n",
    "    z[i+1] = z[i] + h * (-100*y[i] - 101*z[i])\n",
    "    th[i+1] = th[i] + h\n",
    "\n",
    "#plt.plot(th, sol(th), label = 'Решение')\n",
    "#plt.plot(th, y+1, '--', label = 'h = 0.020')\n",
    "\n",
    "r = np.zeros(N)\n",
    "for i in range(N):\n",
    "    r[i] = y[i] - sol(h*i)\n",
    "r = np.abs(r)   \n",
    "print(r.max())\n",
    "\n",
    "plt.plot(r)\n",
    "h = 0.0208\n",
    "y = np.zeros(N+1)\n",
    "y[0] = 2\n",
    "z = np.zeros(N+1)\n",
    "z[0] = -2\n",
    "th = np.zeros(N+1)\n",
    "for i in range(N):\n",
    "    y[i+1] = y[i] + h * z[i] \n",
    "    z[i+1] = z[i] + h * (-100*y[i] - 101*z[i])\n",
    "    th[i+1] = th[i] + h\n",
    "#plt.plot(th, y+2, '--', label = 'h = 0.0208')\n",
    "\n",
    "plt.legend()"
   ]
  },
  {
   "cell_type": "markdown",
   "metadata": {},
   "source": [
    "0.007419522168650272\n",
    "\n",
    "0.0036941997964254902\n",
    "\n",
    "0.0018432388905499364"
   ]
  },
  {
   "cell_type": "markdown",
   "metadata": {},
   "source": [
    "#### XI.9.1. \n",
    "Построить численно общие решения для следующих\n",
    "дифференциальных уравнений:\n",
    "$$ y''- (10+x^2)y=xe^{-x}$$ $$0<x<10$$\n",
    "$$ y(0) = 0$$\n",
    "$$y(10) = 10$$"
   ]
  },
  {
   "cell_type": "markdown",
   "metadata": {},
   "source": [
    "### Аппроксимация граничных условий\n",
    "\n",
    "$$\\alpha_1y(0) + \\beta_1y'(0) = \\gamma_1\\\\\n",
    "   \\alpha_2y(10) + \\beta_2y'(10) = \\gamma_2$$"
   ]
  },
  {
   "cell_type": "code",
   "execution_count": 2,
   "metadata": {},
   "outputs": [],
   "source": [
    "N = 1600\n",
    "h = 10 /N\n",
    "y = np.zeros(N+1)\n",
    "(alpha1, beta1, gamma1) = 0, 0, 0\n",
    "(alpha2, beta2, gamma2) = 0, 0, 0"
   ]
  },
  {
   "cell_type": "code",
   "execution_count": 3,
   "metadata": {},
   "outputs": [
    {
     "name": "stdout",
     "output_type": "stream",
     "text": [
      "0.0\n",
      "[ 0.00000000e+00 -3.51087336e-04 -7.02069196e-04 ... -5.67079281e-07\n",
      " -2.91830564e-07  0.00000000e+00]\n"
     ]
    },
    {
     "data": {
      "text/plain": [
       "[<matplotlib.lines.Line2D at 0x267c69d17f0>]"
      ]
     },
     "execution_count": 3,
     "metadata": {},
     "output_type": "execute_result"
    },
    {
     "data": {
      "image/png": "[encoded data removed]",
      "text/plain": [
       "<Figure size 432x288 with 1 Axes>"
      ]
     },
     "metadata": {
      "needs_background": "light"
     },
     "output_type": "display_data"
    }
   ],
   "source": [
    "#Разложение в ряд Тейлора\n",
    "b0 = -(alpha1-beta1/h-beta1*5*h)\n",
    "c0 = beta1/h\n",
    "d0 = gamma1\n",
    "aN = -beta2/h\n",
    "bN = -(alpha2+beta2/h+55*h)\n",
    "dN = gamma2 - beta2*5*h*np.exp(-10)\n",
    "\n",
    "\n",
    "def a(x):\n",
    "    return 1\n",
    "def b(x):\n",
    "    return 2+(10+x**2)*h**2\n",
    "def c(x):\n",
    "    return 1\n",
    "def d(x): \n",
    "    return x*np.exp(-x)*h**2\n",
    "\n",
    "p = np.zeros(N+2)\n",
    "q = np.zeros(N+2)\n",
    "\n",
    "p[0] = 682\n",
    "q[0] = 682\n",
    "\n",
    "if b0==0:\n",
    "    p[1] = 0\n",
    "    q[1] = 0\n",
    "else:\n",
    "    p[1] = c0 / b0\n",
    "    q[1] = -d0 / b0\n",
    "\n",
    "for i in range(1, N):\n",
    "    p[i+1] = c(i*h)/(b(i*h)-a(h*i)*p[i])\n",
    "    q[i+1] = (a(i*h)*q[i]-d(i*h))/(b(i*h)-a(h*i)*p[i])\n",
    "\n",
    "q[N+1] = (aN*q[N]-dN)/(bN-aN*p[N])\n",
    "y[N] = q[N+1]\n",
    "print(q[N+1])\n",
    "\n",
    "for i in reversed(range(0, N)):\n",
    "    y[i] = p[i+1]*y[i+1]+q[i+1]\n",
    "    \n",
    "x = np.arange(0, 10.+h/2, h)\n",
    "print(y)\n",
    "plt.plot(x, y)"
   ]
  },
  {
   "cell_type": "markdown",
   "metadata": {},
   "source": [
    "#### XI.9.3б\n",
    "Построить алгоритм метода пристрелки для вычисления\n",
    "решения следующих нелинейных задач:\n",
    "$$\\begin{cases}\n",
    "    y'' -x\\sqrt y=0 \\text{, } 0 \\leq x \\leq 1 \\\\\n",
    "    y(0) = 0\\\\\n",
    "    \\int_0^1 y(x)dx=1\n",
    "  \\end {cases}$$\n"
   ]
  },
  {
   "cell_type": "markdown",
   "metadata": {},
   "source": [
    "Задача Коши: \n",
    "$y' = z\\\\\n",
    "z' = x \\sqrt y \\\\\n",
    "y(0) =0\\\\\n",
    "z(0)= \\alpha$"
   ]
  },
  {
   "cell_type": "code",
   "execution_count": 86,
   "metadata": {},
   "outputs": [
    {
     "name": "stdout",
     "output_type": "stream",
     "text": [
      "1.9320449829101562\n",
      "[0.         0.01932045 0.0386409  0.05796149 0.07728247 0.09660417\n",
      " 0.11592699 0.13525136 0.15457777 0.17390676 0.19323889 0.21257478\n",
      " 0.23191506 0.25126042 0.27061155 0.2899692  0.30933413 0.32870714\n",
      " 0.34808905 0.3674807  0.38688297 0.40629677 0.425723   0.44516262\n",
      " 0.46461659 0.48408591 0.50357158 0.52307466 0.54259618 0.56213723\n",
      " 0.5816989  0.60128232 0.62088861 0.64051895 0.6601745  0.67985646\n",
      " 0.69956605 0.71930449 0.73907305 0.75887299 0.77870559 0.79857217\n",
      " 0.81847405 0.83841256 0.85838907 0.87840496 0.89846161 0.91856044\n",
      " 0.93870287 0.95889034 0.97912432 0.99940628 1.01973772 1.04012014\n",
      " 1.06055508 1.08104406 1.10158866 1.12219044 1.142851   1.16357194\n",
      " 1.18435488 1.20520147 1.22611335 1.2470922  1.26813971 1.28925756\n",
      " 1.31044749 1.33171123 1.35305051 1.37446712 1.39596282 1.41753942\n",
      " 1.43919872 1.46094255 1.48277277 1.50469121 1.52669977 1.54880032\n",
      " 1.57099478 1.59328507 1.61567312 1.63816089 1.66075035 1.68344348\n",
      " 1.70624228 1.72914877 1.75216499 1.77529298 1.79853481 1.82189255\n",
      " 1.84536831 1.86896421 1.89268236 1.91652492 1.94049404 1.96459192\n",
      " 1.98882074 2.01318271 2.03768007 2.06231506 2.08708994]\n"
     ]
    },
    {
     "data": {
      "image/png": "[encoded data removed]",
      "text/plain": [
       "<Figure size 432x288 with 1 Axes>"
      ]
     },
     "metadata": {
      "needs_background": "light"
     },
     "output_type": "display_data"
    }
   ],
   "source": [
    "h = 0.01\n",
    "N = int(1 / h)\n",
    "y = np.zeros(N+1)\n",
    "z = np.zeros(N+1)\n",
    "x = np.zeros(N+1)\n",
    "    \n",
    "# Метод Эйлера\n",
    "def E(a, x, y, z):\n",
    "    y[0] = 0\n",
    "    z[0] = a\n",
    "    x[0] = 0\n",
    "    for i in range(N):\n",
    "        y[i+1] = y[i] + h * z[i] \n",
    "        z[i+1] = z[i] + h * (x[i] * np.sqrt(y[i]))\n",
    "        x[i+1] = x[i] + h\n",
    "    return y\n",
    "\n",
    "# Формула трапеций\n",
    "def I(y):\n",
    "    S = 0.\n",
    "    for i in range(N):\n",
    "        S = S + h*(y[i]+y[i+1])/2\n",
    "    return(S)\n",
    "\n",
    "# Метод дихотомии\n",
    "\n",
    "i = 1\n",
    "j = 3\n",
    "while(True):\n",
    "    if((I(E(i,x,y,z))-1)*(I(E((i+j)/2,x,y,z))-1)<0):\n",
    "        j = (i + j) / 2\n",
    "    else:\n",
    "        i = (i + j) / 2\n",
    "    #print(i)\n",
    "    if abs(I(E(i,x,y,z))-1) < 0.000001:\n",
    "        break\n",
    "print(i)\n",
    "#i = 0.001\n",
    "#print(I(E(i,x,y,z)))\n",
    "y = E(i, x, y, z)\n",
    "plt.plot(x,y)\n",
    "\n",
    "print(y)"
   ]
  }
 ],
 "metadata": {
  "kernelspec": {
   "display_name": "Python 3",
   "language": "python",
   "name": "python3"
  },
  "language_info": {
   "codemirror_mode": {
    "name": "ipython",
    "version": 3
   },
   "file_extension": ".py",
   "mimetype": "text/x-python",
   "name": "python",
   "nbconvert_exporter": "python",
   "pygments_lexer": "ipython3",
   "version": "3.7.0"
  }
 },
 "nbformat": 4,
 "nbformat_minor": 2
}
